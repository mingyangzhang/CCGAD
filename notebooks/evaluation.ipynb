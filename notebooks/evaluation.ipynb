{
 "cells": [
  {
   "cell_type": "code",
   "execution_count": 1,
   "metadata": {
    "execution": {
     "iopub.execute_input": "2021-08-19T03:11:23.210919Z",
     "iopub.status.busy": "2021-08-19T03:11:23.210676Z",
     "iopub.status.idle": "2021-08-19T03:11:23.213935Z",
     "shell.execute_reply": "2021-08-19T03:11:23.213379Z",
     "shell.execute_reply.started": "2021-08-19T03:11:23.210882Z"
    }
   },
   "outputs": [],
   "source": [
    "import warnings\n",
    "warnings.filterwarnings(\"ignore\")"
   ]
  },
  {
   "cell_type": "code",
   "execution_count": 20,
   "metadata": {
    "execution": {
     "iopub.execute_input": "2021-08-19T03:11:23.705200Z",
     "iopub.status.busy": "2021-08-19T03:11:23.704795Z",
     "iopub.status.idle": "2021-08-19T03:11:24.233501Z",
     "shell.execute_reply": "2021-08-19T03:11:24.232773Z",
     "shell.execute_reply.started": "2021-08-19T03:11:23.705047Z"
    }
   },
   "outputs": [],
   "source": [
    "import os\n",
    "import pickle\n",
    "import numpy as np\n",
    "import pandas as pd\n",
    "import scipy.io as sio\n",
    "import matplotlib.pyplot as plt"
   ]
  },
  {
   "cell_type": "code",
   "execution_count": 3,
   "metadata": {
    "execution": {
     "iopub.execute_input": "2021-08-19T03:11:24.793825Z",
     "iopub.status.busy": "2021-08-19T03:11:24.793537Z",
     "iopub.status.idle": "2021-08-19T03:11:25.098913Z",
     "shell.execute_reply": "2021-08-19T03:11:25.098272Z",
     "shell.execute_reply.started": "2021-08-19T03:11:24.793787Z"
    }
   },
   "outputs": [],
   "source": [
    "import sklearn.metrics as metrics\n",
    "from sklearn.metrics import roc_auc_score\n",
    "from sklearn.metrics import precision_recall_curve\n",
    "from sklearn.metrics import auc"
   ]
  },
  {
   "cell_type": "markdown",
   "metadata": {},
   "source": [
    "### Ablation Study"
   ]
  },
  {
   "cell_type": "code",
   "execution_count": 4,
   "metadata": {},
   "outputs": [],
   "source": [
    "def precision_recall_k(y_true, y_score, k=50):\n",
    "\n",
    "    desc_sort_order = np.argsort(y_score)[::-1]\n",
    "    y_true_sorted = y_true[desc_sort_order]\n",
    "\n",
    "    true_positives = y_true_sorted[:k].sum()\n",
    "    pk = true_positives / k\n",
    "    rk = true_positives / np.sum(y_true)\n",
    "    return pk, rk"
   ]
  },
  {
   "cell_type": "code",
   "execution_count": 32,
   "metadata": {},
   "outputs": [],
   "source": [
    "import pickle\n",
    "for dataset in [\"enron\"]:\n",
    "    for flag in [\"\", \"_none\", \"_base\"]:\n",
    "        if os.path.exists(f\"../outputs/{dataset}{flag}.mat\"):\n",
    "            data = sio.loadmat(f\"../outputs/{dataset}{flag}.mat\")\n",
    "            with open(f\"../outputs/{dataset}{flag}.pkl\", 'wb') as fw:\n",
    "                pickle.dump(data, fw)\n"
   ]
  },
  {
   "cell_type": "code",
   "execution_count": 46,
   "metadata": {},
   "outputs": [
    {
     "name": "stdout",
     "output_type": "stream",
     "text": [
      "Full\n",
      "AUC: 0.9593\n",
      "Precision@10: 0.9000; Recall@10: 0.0450;\n",
      "Precision@50: 0.6200; Recall@50: 0.1550;\n",
      "Precision@100: 0.5700; Recall@100: 0.2850;\n",
      "Precision@200: 0.4450; Recall@200: 0.4450;\n",
      "Precision@300: 0.3767; Recall@300: 0.5650;\n",
      "w/o sampling\n",
      "AUC: 0.9577\n",
      "Precision@10: 0.8000; Recall@10: 0.0400;\n",
      "Precision@50: 0.6200; Recall@50: 0.1550;\n",
      "Precision@100: 0.5700; Recall@100: 0.2850;\n",
      "Precision@200: 0.4500; Recall@200: 0.4500;\n",
      "Precision@300: 0.3733; Recall@300: 0.5600;\n",
      "w/o clustering\n",
      "AUC: 0.9560\n",
      "Precision@10: 0.7000; Recall@10: 0.0350;\n",
      "Precision@50: 0.6600; Recall@50: 0.1650;\n",
      "Precision@100: 0.5700; Recall@100: 0.2850;\n",
      "Precision@200: 0.4500; Recall@200: 0.4500;\n",
      "Precision@300: 0.3800; Recall@300: 0.5700;\n"
     ]
    }
   ],
   "source": [
    "dataset = \"pubmed\"\n",
    "with open(f\"../outputs/{dataset}.pkl\", \"rb\") as fr:\n",
    "    result = pickle.load(fr)\n",
    "with open(f\"../outputs/{dataset}_none.pkl\", \"rb\") as fr:\n",
    "    result_v1 = pickle.load(fr)\n",
    "with open(f\"../outputs/{dataset}_base.pkl\", \"rb\") as fr:\n",
    "    result_v2 = pickle.load(fr)\n",
    "\n",
    "methods = [\"Full\", \"w/o sampling\", \"w/o clustering\"]\n",
    "data_list = [result, result_v1, result_v2]\n",
    "\n",
    "for data, method in zip(data_list, methods):\n",
    "    print(f\"{method}\")\n",
    "    labels, scores = data['labels'].flatten(), data['scores'].flatten()\n",
    "    auc = roc_auc_score(labels, scores)\n",
    "    print(f\"AUC: {auc:.4f}\")\n",
    "\n",
    "    k_list = [10, 50, 100, 200, 300]\n",
    "    for k in k_list:\n",
    "        pk, rk = precision_recall_k(labels, scores, k)\n",
    "        print(f\"Precision@{k}: {pk:.4f}; Recall@{k}: {rk:.4f};\")"
   ]
  },
  {
   "cell_type": "code",
   "execution_count": null,
   "metadata": {},
   "outputs": [],
   "source": []
  }
 ],
 "metadata": {
  "kernelspec": {
   "display_name": "Python 3 (ipykernel)",
   "language": "python",
   "name": "python3"
  },
  "language_info": {
   "codemirror_mode": {
    "name": "ipython",
    "version": 3
   },
   "file_extension": ".py",
   "mimetype": "text/x-python",
   "name": "python",
   "nbconvert_exporter": "python",
   "pygments_lexer": "ipython3",
   "version": "3.7.3"
  },
  "record_timing": true
 },
 "nbformat": 4,
 "nbformat_minor": 4
}
