{
 "cells": [
  {
   "cell_type": "code",
   "execution_count": 2,
   "id": "9f458e1e-fb79-44f4-8e9b-cdd5b7532357",
   "metadata": {},
   "outputs": [],
   "source": [
    "import numpy as np\n",
    "import scipy.sparse as sp\n",
    "import random\n",
    "import scipy.io as sio\n",
    "import pickle as pkl\n",
    "import networkx as nx\n",
    "import sys\n",
    "import os\n",
    "from sklearn import preprocessing"
   ]
  },
  {
   "cell_type": "code",
   "execution_count": 39,
   "id": "4175fd1a-ef18-4176-8738-b7a4efd863b4",
   "metadata": {},
   "outputs": [],
   "source": [
    "def dense_to_sparse(dense_matrix):\n",
    "\n",
    "    row, col = np.nonzero(dense_matrix)\n",
    "    data = dense_matrix[(row, col)].flatten()\n",
    "    row, col = np.squeeze(row), np.squeeze(col)\n",
    "    shape = dense_matrix.shape\n",
    "    print(row.shape)\n",
    "    print(col.shape)\n",
    "    print(data.shape)\n",
    "    sparse_matrix = sp.coo_matrix((data, (row, col)), shape=shape).tocsc()\n",
    "    return sparse_matrix\n"
   ]
  },
  {
   "cell_type": "code",
   "execution_count": 43,
   "id": "1d1025fc-5d64-48ea-b4a5-09247bceb1f1",
   "metadata": {},
   "outputs": [],
   "source": [
    "import networkx as nx\n",
    "import numpy as np\n",
    "import scipy.io as sio\n",
    "from scipy import sparse"
   ]
  },
  {
   "cell_type": "code",
   "execution_count": 60,
   "id": "838b0842-f76d-4560-9208-d706ca3b78e3",
   "metadata": {},
   "outputs": [],
   "source": [
    "graph_data = {}\n",
    "g = nx.readwrite.graphml.read_graphml(\"../raw_dataset/Disney/Disney.graphml\")\n",
    "graph_data[\"adj\"] = nx.adjacency_matrix(g)\n",
    "\n",
    "feats = []\n",
    "node_list = list(g.nodes())\n",
    "attr_list = list(g.nodes['0'].keys())\n",
    "for node in node_list:\n",
    "    node_feat = []\n",
    "    for attr in attr_list:\n",
    "        node_feat.append(float(g.nodes[node][attr]))\n",
    "    feats.append(node_feat)\n",
    "feats = np.array(feats)\n",
    "\n",
    "graph_data[\"feats\"] = sparse.csr_matrix(feats)\n",
    "\n",
    "labels = {}\n",
    "with open(\"../raw_dataset/Disney/Disney.true\") as fr:\n",
    "    for line in fr.readlines():\n",
    "        vals = line.split(\";\")\n",
    "        if len(vals) > 1:\n",
    "            node, label = vals[0], int(vals[1])\n",
    "            labels[node] = label\n",
    "\n",
    "labels = np.array([labels[nd] for nd in node_list])\n",
    "graph_data[\"label\"] = labels\n",
    "sio.savemat(\"../dataset/Disney.mat\", graph_data)"
   ]
  },
  {
   "cell_type": "code",
   "execution_count": 50,
   "id": "e786723d-6150-47cf-8d92-2c5d590cfceb",
   "metadata": {},
   "outputs": [
    {
     "data": {
      "text/plain": [
       "(1418, 1418)"
      ]
     },
     "execution_count": 50,
     "metadata": {},
     "output_type": "execute_result"
    }
   ],
   "source": [
    "graph_data[\"adj\"].shape"
   ]
  },
  {
   "cell_type": "code",
   "execution_count": 59,
   "id": "d2f33224-781a-4293-89f6-6102ec5c17df",
   "metadata": {},
   "outputs": [
    {
     "data": {
      "text/plain": [
       "matrix([[8.26400e-03, 0.00000e+00, 6.80000e-05, 2.50000e-01, 4.92958e-01,\n",
       "         1.60200e-03, 3.09990e-02, 7.38110e-02, 7.97120e-02, 1.19439e-01,\n",
       "         0.00000e+00, 1.61000e-03, 2.40720e-02, 9.00000e-06, 2.50000e-01,\n",
       "         1.93978e+05, 1.87770e-02, 7.50000e-01, 2.73800e-03, 5.00000e-01,\n",
       "         0.00000e+00]])"
      ]
     },
     "execution_count": 59,
     "metadata": {},
     "output_type": "execute_result"
    }
   ],
   "source": [
    "graph_data[\"feats\"].todense()[3, :]"
   ]
  },
  {
   "cell_type": "code",
   "execution_count": 56,
   "id": "d220fd94-ae8f-4eef-a32a-3b74b667016f",
   "metadata": {},
   "outputs": [
    {
     "data": {
      "text/plain": [
       "28"
      ]
     },
     "execution_count": 56,
     "metadata": {},
     "output_type": "execute_result"
    }
   ],
   "source": [
    "np.sum(labels)"
   ]
  },
  {
   "cell_type": "code",
   "execution_count": null,
   "id": "0569a3e2-c64e-4478-9997-39749788edb8",
   "metadata": {},
   "outputs": [],
   "source": []
  },
  {
   "cell_type": "code",
   "execution_count": null,
   "id": "34f3ccc1-62cf-4ee8-969a-9f6c6405c93f",
   "metadata": {},
   "outputs": [],
   "source": []
  },
  {
   "cell_type": "code",
   "execution_count": null,
   "id": "531acbf4-0522-4401-ade2-8cf43fbba192",
   "metadata": {},
   "outputs": [],
   "source": []
  }
 ],
 "metadata": {
  "interpreter": {
   "hash": "efb99dfd5d88baf8873cb4ac9da641032257024fd3bdfa1445825994f43f458b"
  },
  "kernelspec": {
   "display_name": "geo",
   "language": "python",
   "name": "geo"
  },
  "language_info": {
   "codemirror_mode": {
    "name": "ipython",
    "version": 3
   },
   "file_extension": ".py",
   "mimetype": "text/x-python",
   "name": "python",
   "nbconvert_exporter": "python",
   "pygments_lexer": "ipython3",
   "version": "3.7.3"
  }
 },
 "nbformat": 4,
 "nbformat_minor": 5
}
